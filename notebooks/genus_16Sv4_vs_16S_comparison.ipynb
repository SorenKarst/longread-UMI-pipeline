{
 "cells": [
  {
   "cell_type": "markdown",
   "metadata": {},
   "source": [
    "This notebook consumes taxonomically annotated full length 16S sequences, and compares the observed relative abundances to taxonomic annotations from 16S V4 sequences previously generated from extracted DNA from the same samples. "
   ]
  },
  {
   "cell_type": "code",
   "execution_count": 2,
   "metadata": {},
   "outputs": [],
   "source": [
    "%matplotlib inline\n",
    "import qiime2\n",
    "import matplotlib.pyplot as plt\n",
    "import seaborn as sns\n",
    "import biom\n",
    "import pandas as pd\n",
    "import numpy as np\n",
    "import scipy.stats as ss\n",
    "import redbiom.fetch\n",
    "from qiime2.plugins import feature_classifier"
   ]
  },
  {
   "cell_type": "code",
   "execution_count": 4,
   "metadata": {},
   "outputs": [],
   "source": [
    "# these files are generated upstream by q2-over-16S.sh\n",
    "operon_tax = qiime2.Artifact.load('annotations/q2_seqs-seqs-dn-99-classified.qza').view(pd.DataFrame)\n",
    "operon_biom = qiime2.Artifact.load('annotations/q2_seqs-table-dn-99.qza').view(biom.Table)"
   ]
  },
  {
   "cell_type": "code",
   "execution_count": 5,
   "metadata": {},
   "outputs": [
    {
     "data": {
      "text/plain": [
       "1583 x 70 <class 'biom.table.Table'> with 9586 nonzero entries (8% dense)"
      ]
     },
     "execution_count": 5,
     "metadata": {},
     "output_type": "execute_result"
    }
   ],
   "source": [
    "operon_biom.filter({i for i in operon_biom.ids() if i.startswith('10317')}, inplace=True).remove_empty()\n",
    "operon_biom.update_ids({i: i.rsplit('_', 1)[0] for i in operon_biom.ids()}, inplace=True)"
   ]
  },
  {
   "cell_type": "code",
   "execution_count": 21,
   "metadata": {},
   "outputs": [],
   "source": [
    "context = 'Deblur-Illumina-16S-V4-150nt-780653'\n",
    "base_biom_raw, base_ambiguities = redbiom.fetch.data_from_samples(context, operon_biom.ids())"
   ]
  },
  {
   "cell_type": "code",
   "execution_count": 79,
   "metadata": {},
   "outputs": [
    {
     "data": {
      "text/plain": [
       "4078 x 70 <class 'biom.table.Table'> with 12385 nonzero entries (4% dense)"
      ]
     },
     "execution_count": 79,
     "metadata": {},
     "output_type": "execute_result"
    }
   ],
   "source": [
    "base_biom_clean = base_biom_raw.collapse(lambda i, m: base_ambiguities[i], norm=False)\n",
    "base_biom_clean.filter(lambda v, i, m: v.sum() >= 2, axis='observation').remove_empty()"
   ]
  },
  {
   "cell_type": "code",
   "execution_count": 80,
   "metadata": {},
   "outputs": [
    {
     "data": {
      "text/plain": [
       "4078 x 70 <class 'biom.table.Table'> with 12385 nonzero entries (4% dense)"
      ]
     },
     "execution_count": 80,
     "metadata": {},
     "output_type": "execute_result"
    }
   ],
   "source": [
    "base_biom_clean"
   ]
  },
  {
   "cell_type": "code",
   "execution_count": 81,
   "metadata": {},
   "outputs": [
    {
     "data": {
      "text/plain": [
       "70"
      ]
     },
     "execution_count": 81,
     "metadata": {},
     "output_type": "execute_result"
    }
   ],
   "source": [
    "len(set(base_biom_clean.ids()) & set(operon_biom.ids()))"
   ]
  },
  {
   "cell_type": "code",
   "execution_count": 82,
   "metadata": {},
   "outputs": [
    {
     "data": {
      "text/plain": [
       "1583 x 70 <class 'biom.table.Table'> with 9586 nonzero entries (8% dense)"
      ]
     },
     "execution_count": 82,
     "metadata": {},
     "output_type": "execute_result"
    }
   ],
   "source": [
    "operon_biom.filter(set(base_biom_clean.ids())).remove_empty()"
   ]
  },
  {
   "cell_type": "code",
   "execution_count": 83,
   "metadata": {},
   "outputs": [
    {
     "data": {
      "text/plain": [
       "4078 x 70 <class 'biom.table.Table'> with 12385 nonzero entries (4% dense)"
      ]
     },
     "execution_count": 83,
     "metadata": {},
     "output_type": "execute_result"
    }
   ],
   "source": [
    "operon_biom.norm()\n",
    "base_biom_clean.norm()"
   ]
  },
  {
   "cell_type": "code",
   "execution_count": 84,
   "metadata": {},
   "outputs": [],
   "source": [
    "base_biom_fna = pd.Series(base_biom_clean.ids(axis='observation'), \n",
    "                          index=base_biom_clean.ids(axis='observation'))\n",
    "base_biom_fna_ar = qiime2.Artifact.import_data('FeatureData[Sequence]', base_biom_fna)\n",
    "ref = qiime2.Artifact.load('gg-13-8-99-515-806-nb-classifier.qza')\n",
    "base_tax_ar, = feature_classifier.actions.classify_sklearn(reads=base_biom_fna_ar, classifier=ref, n_jobs=4)\n",
    "base_tax = base_tax_ar.view(pd.DataFrame)"
   ]
  },
  {
   "cell_type": "code",
   "execution_count": 85,
   "metadata": {},
   "outputs": [],
   "source": [
    "base_tax = base_tax_ar.view(pd.DataFrame)"
   ]
  },
  {
   "cell_type": "code",
   "execution_count": 86,
   "metadata": {},
   "outputs": [],
   "source": [
    "operon_tax['genus'] = [v.split('; ')[5] if v.count(';') > 5 else None for v in operon_tax.Taxon]\n",
    "base_tax['genus'] = [v.split('; ')[5] if v.count(';') > 5 else None for v in base_tax.Taxon]"
   ]
  },
  {
   "cell_type": "code",
   "execution_count": 87,
   "metadata": {},
   "outputs": [
    {
     "data": {
      "text/plain": [
       "104"
      ]
     },
     "execution_count": 87,
     "metadata": {},
     "output_type": "execute_result"
    }
   ],
   "source": [
    "len(operon_tax['genus'].unique())"
   ]
  },
  {
   "cell_type": "code",
   "execution_count": 88,
   "metadata": {},
   "outputs": [
    {
     "data": {
      "text/plain": [
       "155"
      ]
     },
     "execution_count": 88,
     "metadata": {},
     "output_type": "execute_result"
    }
   ],
   "source": [
    "len(base_tax['genus'].unique())"
   ]
  },
  {
   "cell_type": "code",
   "execution_count": 89,
   "metadata": {},
   "outputs": [
    {
     "data": {
      "text/plain": [
       "82"
      ]
     },
     "execution_count": 89,
     "metadata": {},
     "output_type": "execute_result"
    }
   ],
   "source": [
    "operon_tax_overlap = operon_tax.loc[list(operon_biom.ids(axis='observation'))]\n",
    "base_tax_overlap = base_tax.loc[list(base_biom_clean.ids(axis='observation'))]\n",
    "\n",
    "overlap = (set(base_tax_overlap['genus'].unique()) & \\\n",
    "           set(operon_tax_overlap['genus'].unique()) - \\\n",
    "          {None, 'g__', np.nan})\n",
    "len(overlap)"
   ]
  },
  {
   "cell_type": "code",
   "execution_count": 90,
   "metadata": {},
   "outputs": [],
   "source": [
    "operon_tax_overlap = operon_tax_overlap[operon_tax_overlap.genus.isin(overlap)].copy()\n",
    "base_tax_overlap = base_tax_overlap[base_tax_overlap.genus.isin(overlap)].copy()"
   ]
  },
  {
   "cell_type": "code",
   "execution_count": 91,
   "metadata": {},
   "outputs": [],
   "source": [
    "operon_biom_overlap = operon_biom.filter(set(operon_tax_overlap.index), axis='observation', \n",
    "                                         inplace=False).remove_empty()\n",
    "base_biom_clean_overlap = base_biom_clean.filter(set(base_tax_overlap.index), axis='observation', \n",
    "                                                 inplace=False).remove_empty()"
   ]
  },
  {
   "cell_type": "code",
   "execution_count": 92,
   "metadata": {},
   "outputs": [],
   "source": [
    "def op_partition_f(i, m):\n",
    "    return operon_tax_overlap.loc[i]['genus']\n",
    "operon_biom_overlap_genus = operon_biom_overlap.collapse(op_partition_f, axis='observation', norm=False)"
   ]
  },
  {
   "cell_type": "code",
   "execution_count": 93,
   "metadata": {},
   "outputs": [],
   "source": [
    "def ba_partition_f(i, m):\n",
    "    return base_tax_overlap.loc[i]['genus']\n",
    "base_biom_clean_overlap_genus = base_biom_clean_overlap.collapse(ba_partition_f, axis='observation', norm=False)"
   ]
  },
  {
   "cell_type": "code",
   "execution_count": 94,
   "metadata": {},
   "outputs": [
    {
     "data": {
      "text/plain": [
       "(82, 70)"
      ]
     },
     "execution_count": 94,
     "metadata": {},
     "output_type": "execute_result"
    }
   ],
   "source": [
    "operon_biom_overlap_genus.shape"
   ]
  },
  {
   "cell_type": "code",
   "execution_count": 95,
   "metadata": {},
   "outputs": [
    {
     "data": {
      "text/plain": [
       "(82, 70)"
      ]
     },
     "execution_count": 95,
     "metadata": {},
     "output_type": "execute_result"
    }
   ],
   "source": [
    "base_biom_clean_overlap_genus.shape"
   ]
  },
  {
   "cell_type": "code",
   "execution_count": 96,
   "metadata": {},
   "outputs": [],
   "source": [
    "operon_biom_overlap_genus = operon_biom_overlap_genus.sort_order(base_biom_clean_overlap_genus.ids())\n",
    "operon_biom_overlap_genus = operon_biom_overlap_genus.sort_order(base_biom_clean_overlap_genus.ids(axis='observation'),\n",
    "                                                                 axis='observation')"
   ]
  },
  {
   "cell_type": "code",
   "execution_count": null,
   "metadata": {},
   "outputs": [],
   "source": []
  },
  {
   "cell_type": "code",
   "execution_count": 97,
   "metadata": {},
   "outputs": [],
   "source": [
    "data = []\n",
    "genera = base_biom_clean_overlap_genus.ids(axis='observation')\n",
    "for v, i, m in base_biom_clean_overlap_genus.iter():\n",
    "    values = v[v > 0]\n",
    "    obs = genera[v > 0]\n",
    "    for rel, o in zip(values, obs):\n",
    "        data.append(('16S', i, o, rel))\n",
    "for v, i, m in operon_biom_overlap_genus.iter():\n",
    "    values = v[v > 0]\n",
    "    obs = genera[v > 0]\n",
    "    for rel, o in zip(values, obs):\n",
    "        data.append(('Operon', i, o, rel))\n",
    "data = pd.DataFrame(data, columns=['Type', 'Sample', 'Genus', 'Relative-abundance'])"
   ]
  },
  {
   "cell_type": "code",
   "execution_count": 98,
   "metadata": {},
   "outputs": [
    {
     "data": {
      "text/html": [
       "<div>\n",
       "<style scoped>\n",
       "    .dataframe tbody tr th:only-of-type {\n",
       "        vertical-align: middle;\n",
       "    }\n",
       "\n",
       "    .dataframe tbody tr th {\n",
       "        vertical-align: top;\n",
       "    }\n",
       "\n",
       "    .dataframe thead th {\n",
       "        text-align: right;\n",
       "    }\n",
       "</style>\n",
       "<table border=\"1\" class=\"dataframe\">\n",
       "  <thead>\n",
       "    <tr style=\"text-align: right;\">\n",
       "      <th></th>\n",
       "      <th>Type</th>\n",
       "      <th>Sample</th>\n",
       "      <th>Genus</th>\n",
       "      <th>Relative-abundance</th>\n",
       "    </tr>\n",
       "  </thead>\n",
       "  <tbody>\n",
       "    <tr>\n",
       "      <th>0</th>\n",
       "      <td>16S</td>\n",
       "      <td>10317.000022413</td>\n",
       "      <td>g__Blautia</td>\n",
       "      <td>0.064584</td>\n",
       "    </tr>\n",
       "    <tr>\n",
       "      <th>1</th>\n",
       "      <td>16S</td>\n",
       "      <td>10317.000022413</td>\n",
       "      <td>g__Oscillospira</td>\n",
       "      <td>0.018038</td>\n",
       "    </tr>\n",
       "    <tr>\n",
       "      <th>2</th>\n",
       "      <td>16S</td>\n",
       "      <td>10317.000022413</td>\n",
       "      <td>g__Coprococcus</td>\n",
       "      <td>0.024989</td>\n",
       "    </tr>\n",
       "    <tr>\n",
       "      <th>3</th>\n",
       "      <td>16S</td>\n",
       "      <td>10317.000022413</td>\n",
       "      <td>g__Clostridium</td>\n",
       "      <td>0.005279</td>\n",
       "    </tr>\n",
       "    <tr>\n",
       "      <th>4</th>\n",
       "      <td>16S</td>\n",
       "      <td>10317.000022413</td>\n",
       "      <td>g__Ruminococcus</td>\n",
       "      <td>0.210999</td>\n",
       "    </tr>\n",
       "    <tr>\n",
       "      <th>...</th>\n",
       "      <td>...</td>\n",
       "      <td>...</td>\n",
       "      <td>...</td>\n",
       "      <td>...</td>\n",
       "    </tr>\n",
       "    <tr>\n",
       "      <th>3246</th>\n",
       "      <td>Operon</td>\n",
       "      <td>10317.000051183</td>\n",
       "      <td>g__WAL_1855D</td>\n",
       "      <td>0.005804</td>\n",
       "    </tr>\n",
       "    <tr>\n",
       "      <th>3247</th>\n",
       "      <td>Operon</td>\n",
       "      <td>10317.000051183</td>\n",
       "      <td>g__Haemophilus</td>\n",
       "      <td>0.000415</td>\n",
       "    </tr>\n",
       "    <tr>\n",
       "      <th>3248</th>\n",
       "      <td>Operon</td>\n",
       "      <td>10317.000051183</td>\n",
       "      <td>g__ph2</td>\n",
       "      <td>0.001658</td>\n",
       "    </tr>\n",
       "    <tr>\n",
       "      <th>3249</th>\n",
       "      <td>Operon</td>\n",
       "      <td>10317.000051183</td>\n",
       "      <td>g__1-68</td>\n",
       "      <td>0.000829</td>\n",
       "    </tr>\n",
       "    <tr>\n",
       "      <th>3250</th>\n",
       "      <td>Operon</td>\n",
       "      <td>10317.000051183</td>\n",
       "      <td>g__Enterococcus</td>\n",
       "      <td>0.000415</td>\n",
       "    </tr>\n",
       "  </tbody>\n",
       "</table>\n",
       "<p>3251 rows × 4 columns</p>\n",
       "</div>"
      ],
      "text/plain": [
       "        Type           Sample            Genus  Relative-abundance\n",
       "0        16S  10317.000022413       g__Blautia            0.064584\n",
       "1        16S  10317.000022413  g__Oscillospira            0.018038\n",
       "2        16S  10317.000022413   g__Coprococcus            0.024989\n",
       "3        16S  10317.000022413   g__Clostridium            0.005279\n",
       "4        16S  10317.000022413  g__Ruminococcus            0.210999\n",
       "...      ...              ...              ...                 ...\n",
       "3246  Operon  10317.000051183     g__WAL_1855D            0.005804\n",
       "3247  Operon  10317.000051183   g__Haemophilus            0.000415\n",
       "3248  Operon  10317.000051183           g__ph2            0.001658\n",
       "3249  Operon  10317.000051183          g__1-68            0.000829\n",
       "3250  Operon  10317.000051183  g__Enterococcus            0.000415\n",
       "\n",
       "[3251 rows x 4 columns]"
      ]
     },
     "execution_count": 98,
     "metadata": {},
     "output_type": "execute_result"
    }
   ],
   "source": [
    "data"
   ]
  },
  {
   "cell_type": "code",
   "execution_count": 99,
   "metadata": {},
   "outputs": [
    {
     "name": "stdout",
     "output_type": "stream",
     "text": [
      "Spearman: r=0.527, p=1.449e-80\n",
      "Pearson: r=0.553, p=4.555e-90\n"
     ]
    },
    {
     "data": {
      "image/png": "[encoded data removed]",
      "text/plain": [
       "<Figure size 864x576 with 1 Axes>"
      ]
     },
     "metadata": {
      "needs_background": "light"
     },
     "output_type": "display_data"
    }
   ],
   "source": [
    "xs = []\n",
    "ys = []\n",
    "for (id_, genus), grp in data.groupby(['Sample', 'Genus']):\n",
    "    a = grp[grp.Type == '16S']\n",
    "    b = grp[grp.Type == 'Operon']\n",
    "\n",
    "    if len(a):\n",
    "        x = np.log10(a.iloc[0]['Relative-abundance'])\n",
    "    else:\n",
    "        # x = 0\n",
    "        continue\n",
    "        \n",
    "    if len(b):\n",
    "        y = np.log10(b.iloc[0]['Relative-abundance'])\n",
    "    else:\n",
    "        # y = 0\n",
    "        continue\n",
    "        \n",
    "    xs.append(x)\n",
    "    ys.append(y)\n",
    "\n",
    "fig = plt.figure(figsize=(12, 8))\n",
    "plt.scatter(xs, ys, s=25)\n",
    "plt.ylabel('16S from operon, Log10(relative-abundance)', fontsize=16)\n",
    "plt.xlabel('16S V4, Log10(relative-abundance)', fontsize=16)\n",
    "plt.plot([-5, 0.2], [-5, 0.2], c='r')\n",
    "ax = plt.gca()\n",
    "ax.set_xlim(-4.2, 0.1)\n",
    "ax.set_ylim(-4.2, 0.1)\n",
    "\n",
    "ax.tick_params(axis='both', which='major', labelsize=12)\n",
    "ax.tick_params(axis='both', which='minor', labelsize=12)\n",
    "plt.savefig('genus_correlation.pdf')\n",
    "\n",
    "print(\"Spearman: r=%0.3f, p=%0.3e\" % ss.spearmanr(xs, ys))\n",
    "print(\"Pearson: r=%0.3f, p=%0.3e\" % ss.pearsonr(xs, ys))"
   ]
  },
  {
   "cell_type": "markdown",
   "metadata": {},
   "source": [
    "Figure SX. A scatter plot of the relative abundances of bacterial genera within samples. Each point represents the observed relative abundance from Earth Microbiome Project 16S V4 derived data, and the observed relative abundance of the full operon data based on taxonomic annotation of the full length 16S. "
   ]
  }
 ],
 "metadata": {
  "kernelspec": {
   "display_name": "Python 3",
   "language": "python",
   "name": "python3"
  },
  "language_info": {
   "codemirror_mode": {
    "name": "ipython",
    "version": 3
   },
   "file_extension": ".py",
   "mimetype": "text/x-python",
   "name": "python",
   "nbconvert_exporter": "python",
   "pygments_lexer": "ipython3",
   "version": "3.6.7"
  }
 },
 "nbformat": 4,
 "nbformat_minor": 2
}
