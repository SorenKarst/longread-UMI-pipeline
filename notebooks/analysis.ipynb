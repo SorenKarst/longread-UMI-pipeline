{
 "cells": [
  {
   "cell_type": "markdown",
   "metadata": {},
   "source": [
    "# Taxonomic resolution by rRNA gene(s)"
   ]
  },
  {
   "cell_type": "markdown",
   "metadata": {},
   "source": [
    "Dependencies"
   ]
  },
  {
   "cell_type": "code",
   "execution_count": 1,
   "metadata": {},
   "outputs": [],
   "source": [
    "import numpy as np\n",
    "import pandas as pd"
   ]
  },
  {
   "cell_type": "code",
   "execution_count": 2,
   "metadata": {},
   "outputs": [],
   "source": [
    "import matplotlib as mpl\n",
    "import matplotlib.pyplot as plt"
   ]
  },
  {
   "cell_type": "code",
   "execution_count": 3,
   "metadata": {},
   "outputs": [],
   "source": [
    "from scipy.stats import chi2_contingency, fisher_exact"
   ]
  },
  {
   "cell_type": "markdown",
   "metadata": {},
   "source": [
    "Graphics"
   ]
  },
  {
   "cell_type": "code",
   "execution_count": 4,
   "metadata": {},
   "outputs": [],
   "source": [
    "%matplotlib inline"
   ]
  },
  {
   "cell_type": "code",
   "execution_count": 5,
   "metadata": {},
   "outputs": [],
   "source": [
    "mpl.rc('font', family='Arial', size=12)"
   ]
  },
  {
   "cell_type": "markdown",
   "metadata": {},
   "source": [
    "Total number of sequences identified by RNAmmer"
   ]
  },
  {
   "cell_type": "code",
   "execution_count": 6,
   "metadata": {},
   "outputs": [],
   "source": [
    "totals = {'Operon' : 253089,\n",
    "          '16S-23S': 253088,\n",
    "          '16S'    : 253089,\n",
    "          '23S'    : 253088,\n",
    "          '5S'     : 50709}"
   ]
  },
  {
   "cell_type": "markdown",
   "metadata": {},
   "source": [
    "Per-sample per-rank assignment counts"
   ]
  },
  {
   "cell_type": "code",
   "execution_count": 7,
   "metadata": {},
   "outputs": [],
   "source": [
    "data_dir = 'data'"
   ]
  },
  {
   "cell_type": "markdown",
   "metadata": {},
   "source": [
    "Read input data"
   ]
  },
  {
   "cell_type": "code",
   "execution_count": 8,
   "metadata": {},
   "outputs": [],
   "source": [
    "data = {}\n",
    "for key in totals.keys():\n",
    "    data[key] = pd.read_csv(f'{data_dir}/{key}.tsv', sep='\\t', dtype={'#SampleID': str}).set_index('#SampleID')"
   ]
  },
  {
   "cell_type": "code",
   "execution_count": 9,
   "metadata": {},
   "outputs": [
    {
     "data": {
      "text/html": [
       "<div>\n",
       "<style scoped>\n",
       "    .dataframe tbody tr th:only-of-type {\n",
       "        vertical-align: middle;\n",
       "    }\n",
       "\n",
       "    .dataframe tbody tr th {\n",
       "        vertical-align: top;\n",
       "    }\n",
       "\n",
       "    .dataframe thead th {\n",
       "        text-align: right;\n",
       "    }\n",
       "</style>\n",
       "<table border=\"1\" class=\"dataframe\">\n",
       "  <thead>\n",
       "    <tr style=\"text-align: right;\">\n",
       "      <th></th>\n",
       "      <th>kingdom</th>\n",
       "      <th>phylum</th>\n",
       "      <th>class</th>\n",
       "      <th>order</th>\n",
       "      <th>family</th>\n",
       "      <th>genus</th>\n",
       "      <th>species</th>\n",
       "      <th>strain</th>\n",
       "    </tr>\n",
       "    <tr>\n",
       "      <th>#SampleID</th>\n",
       "      <th></th>\n",
       "      <th></th>\n",
       "      <th></th>\n",
       "      <th></th>\n",
       "      <th></th>\n",
       "      <th></th>\n",
       "      <th></th>\n",
       "      <th></th>\n",
       "    </tr>\n",
       "  </thead>\n",
       "  <tbody>\n",
       "    <tr>\n",
       "      <th>10317.000101098</th>\n",
       "      <td>135</td>\n",
       "      <td>10</td>\n",
       "      <td>14</td>\n",
       "      <td>27</td>\n",
       "      <td>10</td>\n",
       "      <td>26</td>\n",
       "      <td>3330</td>\n",
       "      <td>55</td>\n",
       "    </tr>\n",
       "    <tr>\n",
       "      <th>10317.000101104</th>\n",
       "      <td>48</td>\n",
       "      <td>0</td>\n",
       "      <td>0</td>\n",
       "      <td>1</td>\n",
       "      <td>0</td>\n",
       "      <td>34</td>\n",
       "      <td>1363</td>\n",
       "      <td>28</td>\n",
       "    </tr>\n",
       "    <tr>\n",
       "      <th>10317.000101105</th>\n",
       "      <td>56</td>\n",
       "      <td>222</td>\n",
       "      <td>59</td>\n",
       "      <td>202</td>\n",
       "      <td>35</td>\n",
       "      <td>36</td>\n",
       "      <td>1968</td>\n",
       "      <td>465</td>\n",
       "    </tr>\n",
       "    <tr>\n",
       "      <th>10317.000101109</th>\n",
       "      <td>208</td>\n",
       "      <td>44</td>\n",
       "      <td>5</td>\n",
       "      <td>69</td>\n",
       "      <td>9</td>\n",
       "      <td>100</td>\n",
       "      <td>2573</td>\n",
       "      <td>54</td>\n",
       "    </tr>\n",
       "    <tr>\n",
       "      <th>10317.000101112</th>\n",
       "      <td>2</td>\n",
       "      <td>1</td>\n",
       "      <td>0</td>\n",
       "      <td>11</td>\n",
       "      <td>8</td>\n",
       "      <td>1757</td>\n",
       "      <td>451</td>\n",
       "      <td>44</td>\n",
       "    </tr>\n",
       "  </tbody>\n",
       "</table>\n",
       "</div>"
      ],
      "text/plain": [
       "                 kingdom  phylum  class  order  family  genus  species  strain\n",
       "#SampleID                                                                     \n",
       "10317.000101098      135      10     14     27      10     26     3330      55\n",
       "10317.000101104       48       0      0      1       0     34     1363      28\n",
       "10317.000101105       56     222     59    202      35     36     1968     465\n",
       "10317.000101109      208      44      5     69       9    100     2573      54\n",
       "10317.000101112        2       1      0     11       8   1757      451      44"
      ]
     },
     "execution_count": 9,
     "metadata": {},
     "output_type": "execute_result"
    }
   ],
   "source": [
    "data['16S'].head()"
   ]
  },
  {
   "cell_type": "markdown",
   "metadata": {},
   "source": [
    "Calculate total assignment counts"
   ]
  },
  {
   "cell_type": "code",
   "execution_count": 10,
   "metadata": {},
   "outputs": [
    {
     "data": {
      "text/html": [
       "<div>\n",
       "<style scoped>\n",
       "    .dataframe tbody tr th:only-of-type {\n",
       "        vertical-align: middle;\n",
       "    }\n",
       "\n",
       "    .dataframe tbody tr th {\n",
       "        vertical-align: top;\n",
       "    }\n",
       "\n",
       "    .dataframe thead th {\n",
       "        text-align: right;\n",
       "    }\n",
       "</style>\n",
       "<table border=\"1\" class=\"dataframe\">\n",
       "  <thead>\n",
       "    <tr style=\"text-align: right;\">\n",
       "      <th></th>\n",
       "      <th>Operon</th>\n",
       "      <th>16S-23S</th>\n",
       "      <th>16S</th>\n",
       "      <th>23S</th>\n",
       "      <th>5S</th>\n",
       "    </tr>\n",
       "  </thead>\n",
       "  <tbody>\n",
       "    <tr>\n",
       "      <th>kingdom</th>\n",
       "      <td>4486</td>\n",
       "      <td>157</td>\n",
       "      <td>17023</td>\n",
       "      <td>16295</td>\n",
       "      <td>995</td>\n",
       "    </tr>\n",
       "    <tr>\n",
       "      <th>phylum</th>\n",
       "      <td>3296</td>\n",
       "      <td>79</td>\n",
       "      <td>4738</td>\n",
       "      <td>8630</td>\n",
       "      <td>20407</td>\n",
       "    </tr>\n",
       "    <tr>\n",
       "      <th>class</th>\n",
       "      <td>596</td>\n",
       "      <td>199</td>\n",
       "      <td>2331</td>\n",
       "      <td>6123</td>\n",
       "      <td>97</td>\n",
       "    </tr>\n",
       "    <tr>\n",
       "      <th>order</th>\n",
       "      <td>2584</td>\n",
       "      <td>3397</td>\n",
       "      <td>33358</td>\n",
       "      <td>26072</td>\n",
       "      <td>7299</td>\n",
       "    </tr>\n",
       "    <tr>\n",
       "      <th>family</th>\n",
       "      <td>738</td>\n",
       "      <td>1543</td>\n",
       "      <td>7694</td>\n",
       "      <td>8892</td>\n",
       "      <td>2132</td>\n",
       "    </tr>\n",
       "    <tr>\n",
       "      <th>genus</th>\n",
       "      <td>26044</td>\n",
       "      <td>9335</td>\n",
       "      <td>62165</td>\n",
       "      <td>80323</td>\n",
       "      <td>1101</td>\n",
       "    </tr>\n",
       "    <tr>\n",
       "      <th>species</th>\n",
       "      <td>162775</td>\n",
       "      <td>182633</td>\n",
       "      <td>97100</td>\n",
       "      <td>99771</td>\n",
       "      <td>16560</td>\n",
       "    </tr>\n",
       "    <tr>\n",
       "      <th>strain</th>\n",
       "      <td>52570</td>\n",
       "      <td>55744</td>\n",
       "      <td>28679</td>\n",
       "      <td>6981</td>\n",
       "      <td>1969</td>\n",
       "    </tr>\n",
       "  </tbody>\n",
       "</table>\n",
       "</div>"
      ],
      "text/plain": [
       "         Operon  16S-23S    16S    23S     5S\n",
       "kingdom    4486      157  17023  16295    995\n",
       "phylum     3296       79   4738   8630  20407\n",
       "class       596      199   2331   6123     97\n",
       "order      2584     3397  33358  26072   7299\n",
       "family      738     1543   7694   8892   2132\n",
       "genus     26044     9335  62165  80323   1101\n",
       "species  162775   182633  97100  99771  16560\n",
       "strain    52570    55744  28679   6981   1969"
      ]
     },
     "execution_count": 10,
     "metadata": {},
     "output_type": "execute_result"
    }
   ],
   "source": [
    "counts = {x: data[x].sum() for x in totals.keys()}\n",
    "dfc = pd.DataFrame(counts)\n",
    "dfc.to_csv('counts.tsv', sep='\\t')\n",
    "dfc"
   ]
  },
  {
   "cell_type": "markdown",
   "metadata": {},
   "source": [
    "Calculate total assignment rates (%)"
   ]
  },
  {
   "cell_type": "code",
   "execution_count": 11,
   "metadata": {},
   "outputs": [
    {
     "data": {
      "text/html": [
       "<div>\n",
       "<style scoped>\n",
       "    .dataframe tbody tr th:only-of-type {\n",
       "        vertical-align: middle;\n",
       "    }\n",
       "\n",
       "    .dataframe tbody tr th {\n",
       "        vertical-align: top;\n",
       "    }\n",
       "\n",
       "    .dataframe thead th {\n",
       "        text-align: right;\n",
       "    }\n",
       "</style>\n",
       "<table border=\"1\" class=\"dataframe\">\n",
       "  <thead>\n",
       "    <tr style=\"text-align: right;\">\n",
       "      <th></th>\n",
       "      <th>Operon</th>\n",
       "      <th>16S-23S</th>\n",
       "      <th>16S</th>\n",
       "      <th>23S</th>\n",
       "      <th>5S</th>\n",
       "    </tr>\n",
       "  </thead>\n",
       "  <tbody>\n",
       "    <tr>\n",
       "      <th>kingdom</th>\n",
       "      <td>1.772499</td>\n",
       "      <td>0.062034</td>\n",
       "      <td>6.726092</td>\n",
       "      <td>6.438472</td>\n",
       "      <td>1.962176</td>\n",
       "    </tr>\n",
       "    <tr>\n",
       "      <th>phylum</th>\n",
       "      <td>1.302309</td>\n",
       "      <td>0.031214</td>\n",
       "      <td>1.872069</td>\n",
       "      <td>3.409881</td>\n",
       "      <td>40.243349</td>\n",
       "    </tr>\n",
       "    <tr>\n",
       "      <th>class</th>\n",
       "      <td>0.235490</td>\n",
       "      <td>0.078629</td>\n",
       "      <td>0.921020</td>\n",
       "      <td>2.419317</td>\n",
       "      <td>0.191288</td>\n",
       "    </tr>\n",
       "    <tr>\n",
       "      <th>order</th>\n",
       "      <td>1.020985</td>\n",
       "      <td>1.342221</td>\n",
       "      <td>13.180344</td>\n",
       "      <td>10.301555</td>\n",
       "      <td>14.393895</td>\n",
       "    </tr>\n",
       "    <tr>\n",
       "      <th>family</th>\n",
       "      <td>0.291597</td>\n",
       "      <td>0.609669</td>\n",
       "      <td>3.040037</td>\n",
       "      <td>3.513402</td>\n",
       "      <td>4.204382</td>\n",
       "    </tr>\n",
       "    <tr>\n",
       "      <th>genus</th>\n",
       "      <td>10.290451</td>\n",
       "      <td>3.688440</td>\n",
       "      <td>24.562506</td>\n",
       "      <td>31.737182</td>\n",
       "      <td>2.171212</td>\n",
       "    </tr>\n",
       "    <tr>\n",
       "      <th>species</th>\n",
       "      <td>64.315320</td>\n",
       "      <td>72.161857</td>\n",
       "      <td>38.365950</td>\n",
       "      <td>39.421466</td>\n",
       "      <td>32.656925</td>\n",
       "    </tr>\n",
       "    <tr>\n",
       "      <th>strain</th>\n",
       "      <td>20.771349</td>\n",
       "      <td>22.025541</td>\n",
       "      <td>11.331587</td>\n",
       "      <td>2.758329</td>\n",
       "      <td>3.882940</td>\n",
       "    </tr>\n",
       "  </tbody>\n",
       "</table>\n",
       "</div>"
      ],
      "text/plain": [
       "            Operon    16S-23S        16S        23S         5S\n",
       "kingdom   1.772499   0.062034   6.726092   6.438472   1.962176\n",
       "phylum    1.302309   0.031214   1.872069   3.409881  40.243349\n",
       "class     0.235490   0.078629   0.921020   2.419317   0.191288\n",
       "order     1.020985   1.342221  13.180344  10.301555  14.393895\n",
       "family    0.291597   0.609669   3.040037   3.513402   4.204382\n",
       "genus    10.290451   3.688440  24.562506  31.737182   2.171212\n",
       "species  64.315320  72.161857  38.365950  39.421466  32.656925\n",
       "strain   20.771349  22.025541  11.331587   2.758329   3.882940"
      ]
     },
     "execution_count": 11,
     "metadata": {},
     "output_type": "execute_result"
    }
   ],
   "source": [
    "rates = {x: counts[x] / totals[x] * 100 for x in totals.keys()}\n",
    "dfr = pd.DataFrame(rates)\n",
    "dfr.to_csv('rates.tsv', sep='\\t')\n",
    "dfr"
   ]
  },
  {
   "cell_type": "markdown",
   "metadata": {},
   "source": [
    "Plot assignment ratios"
   ]
  },
  {
   "cell_type": "code",
   "execution_count": 12,
   "metadata": {},
   "outputs": [
    {
     "data": {
      "image/png": "[encoded data removed]",
      "text/plain": [
       "<Figure size 576x288 with 1 Axes>"
      ]
     },
     "metadata": {
      "needs_background": "light"
     },
     "output_type": "display_data"
    }
   ],
   "source": [
    "fig = plt.figure(figsize=(8, 4))\n",
    "n = dfr.shape[1]\n",
    "bottom = [0.0] * n\n",
    "for level in dfr.index[::-1]:\n",
    "    heights = dfr.loc[level]\n",
    "    plt.bar(range(n), heights, bottom=bottom, label=level)\n",
    "    bottom = np.add(bottom, heights)\n",
    "plt.ylabel('% assigned')\n",
    "plt.xticks(range(n), dfr.columns)\n",
    "plt.legend(title='level', bbox_to_anchor=(1, 1))\n",
    "fig.tight_layout()\n",
    "fig.savefig('plot.pdf', bbox_inches='tight')"
   ]
  },
  {
   "cell_type": "markdown",
   "metadata": {},
   "source": [
    "Statistical test"
   ]
  },
  {
   "cell_type": "code",
   "execution_count": 13,
   "metadata": {},
   "outputs": [],
   "source": [
    "grps = ('Operon', '16S')"
   ]
  },
  {
   "cell_type": "markdown",
   "metadata": {},
   "source": [
    "Rates at species or below"
   ]
  },
  {
   "cell_type": "code",
   "execution_count": 14,
   "metadata": {},
   "outputs": [
    {
     "name": "stdout",
     "output_type": "stream",
     "text": [
      "Operon: 85.09%\n",
      "16S: 49.70%\n"
     ]
    }
   ],
   "source": [
    "for grp in grps:\n",
    "    rate = dfr[grp]['species'] + dfr[grp]['strain']\n",
    "    print(f'{grp}: {rate:.2f}%')"
   ]
  },
  {
   "cell_type": "markdown",
   "metadata": {},
   "source": [
    "Contigency table"
   ]
  },
  {
   "cell_type": "code",
   "execution_count": 15,
   "metadata": {},
   "outputs": [
    {
     "data": {
      "text/plain": [
       "[[215345, 37744], [125779, 127310]]"
      ]
     },
     "execution_count": 15,
     "metadata": {},
     "output_type": "execute_result"
    }
   ],
   "source": [
    "ctab = []\n",
    "for grp in grps:\n",
    "    ctab.append([])\n",
    "    ctab[-1].append(dfc[grp]['species'] + dfc[grp]['strain'])\n",
    "    ctab[-1].append(totals[grp] - ctab[-1][0])\n",
    "ctab"
   ]
  },
  {
   "cell_type": "markdown",
   "metadata": {},
   "source": [
    "Chi-square test (Pearson)"
   ]
  },
  {
   "cell_type": "code",
   "execution_count": 16,
   "metadata": {},
   "outputs": [
    {
     "data": {
      "text/plain": [
       "(72117.65501663761, 0.0)"
      ]
     },
     "execution_count": 16,
     "metadata": {},
     "output_type": "execute_result"
    }
   ],
   "source": [
    "chi2, pval, dof, exp = chi2_contingency(ctab)\n",
    "chi2, pval"
   ]
  },
  {
   "cell_type": "markdown",
   "metadata": {},
   "source": [
    "Fisher's exact test (two-tailed)"
   ]
  },
  {
   "cell_type": "code",
   "execution_count": 17,
   "metadata": {},
   "outputs": [
    {
     "data": {
      "text/plain": [
       "(5.774857200566173, 0.0)"
      ]
     },
     "execution_count": 17,
     "metadata": {},
     "output_type": "execute_result"
    }
   ],
   "source": [
    "odds, pval = fisher_exact(ctab)\n",
    "odds, pval"
   ]
  }
 ],
 "metadata": {
  "kernelspec": {
   "display_name": "Python 3",
   "language": "python",
   "name": "python3"
  },
  "language_info": {
   "codemirror_mode": {
    "name": "ipython",
    "version": 3
   },
   "file_extension": ".py",
   "mimetype": "text/x-python",
   "name": "python",
   "nbconvert_exporter": "python",
   "pygments_lexer": "ipython3",
   "version": "3.6.7"
  }
 },
 "nbformat": 4,
 "nbformat_minor": 2
}
